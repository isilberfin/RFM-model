{
 "cells": [
  {
   "cell_type": "code",
   "execution_count": null,
   "metadata": {},
   "outputs": [],
   "source": [
    "import matplotlib.pyplot as plt\n",
    "import plotly.graph_objs as go\n",
    "import plotly.io as pio\n",
    "import plotly.express as px\n",
    "import plotly.offline as pyo"
   ]
  },
  {
   "cell_type": "code",
   "execution_count": null,
   "metadata": {},
   "outputs": [],
   "source": [
    "# Create a directory named \"plots\" if it doesn't exist\n",
    "if not os.path.exists(\"plots\"):\n",
    "    os.mkdir(\"plots\")"
   ]
  },
  {
   "cell_type": "code",
   "execution_count": null,
   "metadata": {},
   "outputs": [],
   "source": [
    "# Create separate scatter plots for each cluster\n",
    "for i in range(kmeans.n_clusters):\n",
    "    cluster_data = data[data['cluster'] == i]\n",
    "    trace = go.Scatter(\n",
    "        x=cluster_data['total_spent'],\n",
    "        y=cluster_data['avg_spent_per_product'],\n",
    "        mode='markers',\n",
    "        marker=dict(color=cluster_data['cluster'], size=10),\n",
    "        name=f'Cluster {i}'\n",
    "    )\n",
    "    layout = go.Layout(\n",
    "        title=f'Scatter Plot of Cluster {i}',\n",
    "        xaxis=dict(title='Total Spent'),\n",
    "        yaxis=dict(title='Average Spent per Product')\n",
    "    )\n",
    "    fig = go.Figure(data=[trace], layout=layout)\n",
    "    plotly_file = f\"plots/plot_{i}_avg_versus_total.html\"\n",
    "    pyo.plot(fig, filename=plotly_file)"
   ]
  },
  {
   "cell_type": "code",
   "execution_count": null,
   "metadata": {},
   "outputs": [],
   "source": [
    "# Create a scatter plot with Plotly\n",
    "# Randomly select a subset of data points\n",
    "df_sample = data.sample(n=1000, random_state=42)\n",
    "fig = px.scatter(df_sample, x='days_passed_since_last_order', color='cluster',\n",
    "                 hover_data=['customer_id', 'qtt_order', 'total_spent', 'avg_spent_per_product'])\n",
    "fig.update_traces(mode='markers', marker=dict(size=8))\n",
    "plotly_file = f\"plots/plot_days_passed_since_last_order.html\"\n",
    "pyo.offline.plot(fig,filename=plotly_file)"
   ]
  },
  {
   "cell_type": "code",
   "execution_count": null,
   "metadata": {},
   "outputs": [],
   "source": [
    "# Create separate scatter plots for each cluster\n",
    "for i in range(kmeans.n_clusters):\n",
    "    cluster_data = data[data['cluster'] == i]\n",
    "    trace = go.Scatter(\n",
    "        x=cluster_data['days_passed_since_last_order'],\n",
    "        y=cluster_data['avg_spent_per_product'],\n",
    "        mode='markers',\n",
    "        marker=dict(color=cluster_data['cluster'], size=10),\n",
    "        name=f'Cluster {i}'\n",
    "    )\n",
    "    layout = go.Layout(\n",
    "        title=f'Scatter Plot of Days Passed Since Last Order for Cluster {i}',\n",
    "        xaxis=dict(title='Days Passed Since Last Order'),\n",
    "        yaxis=dict(title='Average Spent per Product')\n",
    "    )\n",
    "    fig = go.Figure(data=[trace], layout=layout)\n",
    "    plotly_file = f\"plots/plot_{i}_avg_spent_per_product.html\"\n",
    "    pyo.plot(fig, filename=plotly_file)"
   ]
  },
  {
   "cell_type": "code",
   "execution_count": null,
   "metadata": {},
   "outputs": [],
   "source": [
    "# Create separate scatter plots for each cluster\n",
    "for i in range(kmeans.n_clusters):\n",
    "    cluster_data = data[data['cluster'] == i]\n",
    "    trace = go.Scatter(\n",
    "        x=cluster_data['days_passed_since_last_order'],\n",
    "        y=cluster_data['total_spent'],\n",
    "        mode='markers',\n",
    "        marker=dict(color=cluster_data['cluster'], size=10),\n",
    "        name=f'Cluster {i}'\n",
    "    )\n",
    "    layout = go.Layout(\n",
    "        title=f'Scatter Plot of Days Passed Since Last Order for Cluster {i}',\n",
    "        xaxis=dict(title='Days Passed Since Last Order'),\n",
    "        yaxis=dict(title='Total Spent')\n",
    "    )\n",
    "    fig = go.Figure(data=[trace], layout=layout)\n",
    "    plotly_file = f\"plots/plot_{i}_total_spent.html\"\n",
    "    pyo.plot(fig, filename=plotly_file)"
   ]
  },
  {
   "cell_type": "code",
   "execution_count": null,
   "metadata": {},
   "outputs": [],
   "source": [
    "# Create box plots for total_spent and days_passed_since_last_order\n",
    "fig = px.box(data, x='cluster', y='total_spent', color='cluster', points='all',\n",
    "             title='Box Plot of Total Spent per Cluster')\n",
    "plotly_file = f\"plots/boxplot_total_spent.html\"\n",
    "pyo.plot(fig, filename=plotly_file)"
   ]
  },
  {
   "cell_type": "code",
   "execution_count": null,
   "metadata": {},
   "outputs": [],
   "source": [
    "fig = px.box(data, x='cluster', y='days_passed_since_last_order', color='cluster', points='all',\n",
    "             title='Box Plot of Days Passed Since Last Order per Cluster')\n",
    "plotly_file = f\"plots/boxplot_days_passed_since_last_order.html\"\n",
    "pyo.plot(fig, filename=plotly_file)"
   ]
  },
  {
   "cell_type": "code",
   "execution_count": null,
   "metadata": {},
   "outputs": [],
   "source": [
    "# Create a pie chart of the distribution of records in each cluster\n",
    "df_pie = data.groupby('cluster').size().reset_index(name='counts')\n",
    "fig = px.pie(df_pie, values='counts', names='cluster', title='Pie Chart of Record Distribution by Cluster')\n",
    "plotly_file = f\"plots/pie_plot_cluster_numbers.html\"\n",
    "pyo.plot(fig, filename=plotly_file)"
   ]
  }
 ],
 "metadata": {
  "language_info": {
   "name": "python"
  },
  "orig_nbformat": 4
 },
 "nbformat": 4,
 "nbformat_minor": 2
}

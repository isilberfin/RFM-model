{
 "cells": [
  {
   "cell_type": "code",
   "execution_count": 33,
   "metadata": {},
   "outputs": [],
   "source": [
    "import matplotlib.pyplot as plt\n",
    "import plotly.graph_objs as go\n",
    "import plotly.io as pio\n",
    "import plotly.express as px\n",
    "import plotly.offline as pyo\n",
    "import pandas as pd\n",
    "import os"
   ]
  },
  {
   "cell_type": "code",
   "execution_count": 34,
   "metadata": {},
   "outputs": [],
   "source": [
    "# Create a directory named \"plots\" if it doesn't exist\n",
    "if not os.path.exists(\"plots\"):\n",
    "    os.mkdir(\"plots\")"
   ]
  },
  {
   "cell_type": "code",
   "execution_count": 35,
   "metadata": {},
   "outputs": [],
   "source": [
    "data = pd.read_csv(os.path.join(\"..\",\"data\",\"RFM_data.csv\"))"
   ]
  },
  {
   "cell_type": "code",
   "execution_count": 36,
   "metadata": {},
   "outputs": [],
   "source": [
    "customer_list=[\"Occasional Engagers\",\"Rapid Repeaters\",\"High-Value Regulars\",\"Loyal Spenders\",\"Potential Lost\"]\n",
    "colormap=[\"darkblue\", \"purple\", \"pink\", \"orange\", \"yellow\"]"
   ]
  },
  {
   "cell_type": "code",
   "execution_count": 37,
   "metadata": {},
   "outputs": [],
   "source": [
    "# Create separate scatter plots for each cluster\n",
    "for i in range(5):\n",
    "    cluster_data = data[data['cluster'] == customer_list[i]]\n",
    "    trace = go.Scatter(\n",
    "        x=cluster_data['total_spent'],\n",
    "        y=cluster_data['avg_spent_per_product'],\n",
    "        mode='markers',\n",
    "        marker=dict(color=colormap[i], size=10),\n",
    "        name=f'Cluster {i}'\n",
    "    )\n",
    "    layout = go.Layout(\n",
    "        xaxis=dict(title='Total Spent'),\n",
    "        yaxis=dict(title='Average Spent per Product')\n",
    "    )\n",
    "    fig = go.Figure(data=[trace], layout=layout)\n",
    "    plotly_file = f\"plots/plot_{i}_avg_versus_total.html\"\n",
    "    pyo.plot(fig, filename=plotly_file)"
   ]
  },
  {
   "cell_type": "code",
   "execution_count": 38,
   "metadata": {},
   "outputs": [
    {
     "data": {
      "text/plain": [
       "'plots/plot_days_passed_since_last_order.html'"
      ]
     },
     "execution_count": 38,
     "metadata": {},
     "output_type": "execute_result"
    }
   ],
   "source": [
    "# Randomly select a subset of data points\n",
    "df_sample = data.sample(n=1000, random_state=42)\n",
    "fig = px.scatter(df_sample, x='days_passed_since_last_order', color='cluster',\n",
    "                 hover_data=['customer_id', 'qtt_order', 'total_spent', 'avg_spent_per_product'])\n",
    "fig.update_traces(mode='markers', marker=dict(size=8))\n",
    "plotly_file = f\"plots/plot_days_passed_since_last_order.html\"\n",
    "pyo.offline.plot(fig,filename=plotly_file)"
   ]
  },
  {
   "cell_type": "code",
   "execution_count": 39,
   "metadata": {},
   "outputs": [],
   "source": [
    "# Create separate scatter plots for each cluster\n",
    "for i in range(5):\n",
    "    cluster_data = data[data['cluster'] == customer_list[i]]\n",
    "    trace = go.Scatter(\n",
    "        x=cluster_data['days_passed_since_last_order'],\n",
    "        y=cluster_data['avg_spent_per_product'],\n",
    "        mode='markers',\n",
    "        marker=dict(color=colormap[i], size=10),\n",
    "        name=f'Cluster {i}'\n",
    "    )\n",
    "    layout = go.Layout(\n",
    "        xaxis=dict(title='Days Passed Since Last Order'),\n",
    "        yaxis=dict(title='Average Spent per Product')\n",
    "    )\n",
    "    fig = go.Figure(data=[trace], layout=layout)\n",
    "    plotly_file = f\"plots/plot_{i}_avg_spent_per_product.html\"\n",
    "    pyo.plot(fig, filename=plotly_file)"
   ]
  },
  {
   "cell_type": "code",
   "execution_count": 40,
   "metadata": {},
   "outputs": [],
   "source": [
    "# Create separate scatter plots for each cluster\n",
    "for i in range(5):\n",
    "    cluster_data = data[data['cluster'] == customer_list[i]]\n",
    "    trace = go.Scatter(\n",
    "        x=cluster_data['days_passed_since_last_order'],\n",
    "        y=cluster_data['total_spent'],\n",
    "        mode='markers',\n",
    "        marker=dict(color=colormap[i], size=10),\n",
    "        name=f'Cluster {i}'\n",
    "    )\n",
    "    layout = go.Layout(\n",
    "        xaxis=dict(title='Days Passed Since Last Order'),\n",
    "        yaxis=dict(title='Total Spent')\n",
    "    )\n",
    "    fig = go.Figure(data=[trace], layout=layout)\n",
    "    plotly_file = f\"plots/plot_{i}_total_spent.html\"\n",
    "    pyo.plot(fig, filename=plotly_file)"
   ]
  },
  {
   "cell_type": "code",
   "execution_count": 41,
   "metadata": {},
   "outputs": [],
   "source": [
    "# Define the colormap for each cluster label\n",
    "colormap = {\n",
    "    'Loyal Spenders': 'darkblue',\n",
    "    'Occasional Engagers': 'purple',\n",
    "    'Rapid Repeaters': 'pink',\n",
    "    'Potential Lost': 'orange',\n",
    "    'High-Value Regulars': 'yellow'\n",
    "}\n",
    "\n",
    "fig = px.box(data, x='cluster', y='total_spent', color='cluster', points='all',\n",
    "            color_discrete_map=colormap)\n",
    "plotly_file = f\"plots/boxplot_total_spent.html\"\n",
    "pio.write_html(fig, file=plotly_file, auto_open=False)"
   ]
  },
  {
   "cell_type": "code",
   "execution_count": 42,
   "metadata": {},
   "outputs": [
    {
     "data": {
      "text/plain": [
       "'plots/boxplot_days_passed_since_last_order.html'"
      ]
     },
     "execution_count": 42,
     "metadata": {},
     "output_type": "execute_result"
    }
   ],
   "source": [
    "fig = px.box(data, x='cluster', y='days_passed_since_last_order', color='cluster', points='all',color_discrete_map=colormap)\n",
    "plotly_file = f\"plots/boxplot_days_passed_since_last_order.html\"\n",
    "pyo.plot(fig, filename=plotly_file)"
   ]
  },
  {
   "cell_type": "code",
   "execution_count": 43,
   "metadata": {},
   "outputs": [],
   "source": [
    "df_pie = data.groupby('cluster').size().reset_index(name='counts')\n",
    "fig = px.pie(df_pie, values='counts', names='cluster',color_discrete_map=colormap)\n",
    "plotly_file = f\"plots/pie_plot_cluster_numbers.html\"\n",
    "pio.write_html(fig, file=plotly_file, auto_open=False)"
   ]
  }
 ],
 "metadata": {
  "kernelspec": {
   "display_name": "Python 3",
   "language": "python",
   "name": "python3"
  },
  "language_info": {
   "codemirror_mode": {
    "name": "ipython",
    "version": 3
   },
   "file_extension": ".py",
   "mimetype": "text/x-python",
   "name": "python",
   "nbconvert_exporter": "python",
   "pygments_lexer": "ipython3",
   "version": "3.10.7"
  },
  "orig_nbformat": 4
 },
 "nbformat": 4,
 "nbformat_minor": 2
}

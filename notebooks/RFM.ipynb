{
 "cells": [
  {
   "cell_type": "code",
   "execution_count": 20,
   "metadata": {},
   "outputs": [],
   "source": [
    "#import the necessary libraries\n",
    "import os\n",
    "import pandas as pd\n",
    "import numpy as np\n",
    "from datetime import datetime\n",
    "from sklearn.cluster import KMeans\n",
    "from sklearn.preprocessing import StandardScaler"
   ]
  },
  {
   "cell_type": "code",
   "execution_count": 21,
   "metadata": {},
   "outputs": [],
   "source": [
    "#read the data with pandas\n",
    "data= pd.read_csv(os.path.join(\"..\",\"data\",\"customer_segmentation_100k.csv\"))"
   ]
  },
  {
   "cell_type": "code",
   "execution_count": 22,
   "metadata": {},
   "outputs": [
    {
     "data": {
      "text/html": [
       "<div>\n",
       "<style scoped>\n",
       "    .dataframe tbody tr th:only-of-type {\n",
       "        vertical-align: middle;\n",
       "    }\n",
       "\n",
       "    .dataframe tbody tr th {\n",
       "        vertical-align: top;\n",
       "    }\n",
       "\n",
       "    .dataframe thead th {\n",
       "        text-align: right;\n",
       "    }\n",
       "</style>\n",
       "<table border=\"1\" class=\"dataframe\">\n",
       "  <thead>\n",
       "    <tr style=\"text-align: right;\">\n",
       "      <th></th>\n",
       "      <th>customer_id</th>\n",
       "      <th>qtt_order</th>\n",
       "      <th>total_spent</th>\n",
       "      <th>last_order</th>\n",
       "      <th>days_passed_since_last_order</th>\n",
       "    </tr>\n",
       "  </thead>\n",
       "  <tbody>\n",
       "    <tr>\n",
       "      <th>0</th>\n",
       "      <td>0</td>\n",
       "      <td>41</td>\n",
       "      <td>321785.93</td>\n",
       "      <td>2022-08-04 01:00:00</td>\n",
       "      <td>279</td>\n",
       "    </tr>\n",
       "  </tbody>\n",
       "</table>\n",
       "</div>"
      ],
      "text/plain": [
       "   customer_id  qtt_order  total_spent          last_order  \\\n",
       "0            0         41    321785.93 2022-08-04 01:00:00   \n",
       "\n",
       "   days_passed_since_last_order  \n",
       "0                           279  "
      ]
     },
     "execution_count": 22,
     "metadata": {},
     "output_type": "execute_result"
    }
   ],
   "source": [
    "#now we will create our features for our RFM scores which stands for Recency-Frequency-Monetary\n",
    "# Set reference date as today\n",
    "today = datetime.today()\n",
    "\n",
    "# Convert last_order_date column to datetime type\n",
    "data['last_order'] = pd.to_datetime(data['last_order'])\n",
    "\n",
    "# Calculate days since last order for each row\n",
    "data['days_passed_since_last_order'] = (today - data['last_order']).dt.days\n",
    "\n",
    "data.head(1)"
   ]
  },
  {
   "cell_type": "code",
   "execution_count": 23,
   "metadata": {},
   "outputs": [
    {
     "data": {
      "text/html": [
       "<div>\n",
       "<style scoped>\n",
       "    .dataframe tbody tr th:only-of-type {\n",
       "        vertical-align: middle;\n",
       "    }\n",
       "\n",
       "    .dataframe tbody tr th {\n",
       "        vertical-align: top;\n",
       "    }\n",
       "\n",
       "    .dataframe thead th {\n",
       "        text-align: right;\n",
       "    }\n",
       "</style>\n",
       "<table border=\"1\" class=\"dataframe\">\n",
       "  <thead>\n",
       "    <tr style=\"text-align: right;\">\n",
       "      <th></th>\n",
       "      <th>customer_id</th>\n",
       "      <th>qtt_order</th>\n",
       "      <th>total_spent</th>\n",
       "      <th>last_order</th>\n",
       "      <th>days_passed_since_last_order</th>\n",
       "      <th>avg_spent_per_product</th>\n",
       "    </tr>\n",
       "  </thead>\n",
       "  <tbody>\n",
       "    <tr>\n",
       "      <th>0</th>\n",
       "      <td>0</td>\n",
       "      <td>41</td>\n",
       "      <td>321785.93</td>\n",
       "      <td>2022-08-04 01:00:00</td>\n",
       "      <td>279</td>\n",
       "      <td>7848</td>\n",
       "    </tr>\n",
       "  </tbody>\n",
       "</table>\n",
       "</div>"
      ],
      "text/plain": [
       "   customer_id  qtt_order  total_spent          last_order  \\\n",
       "0            0         41    321785.93 2022-08-04 01:00:00   \n",
       "\n",
       "   days_passed_since_last_order  avg_spent_per_product  \n",
       "0                           279                   7848  "
      ]
     },
     "execution_count": 23,
     "metadata": {},
     "output_type": "execute_result"
    }
   ],
   "source": [
    "#for monetary we will use the total_spent column besides the average spent for order\n",
    "data = data.assign(avg_spent_per_product=(data['total_spent'] / data['qtt_order']).fillna(0))\n",
    "\n",
    "# Replace infinite values with a large finite value before converting to integer data type\n",
    "data['avg_spent_per_product'].replace([np.inf, -np.inf], np.iinfo(np.int32).max, inplace=True)\n",
    "data['avg_spent_per_product'] = data['avg_spent_per_product'].astype(int)\n",
    "data.head(1)"
   ]
  },
  {
   "cell_type": "code",
   "execution_count": 24,
   "metadata": {},
   "outputs": [],
   "source": [
    "#for frequency, we have only the qqt_order column which represents the number of orders, thus our final data is:\n",
    "data=data[[\"customer_id\",\"qtt_order\",\"total_spent\",\"days_passed_since_last_order\",\"avg_spent_per_product\"]]"
   ]
  },
  {
   "cell_type": "code",
   "execution_count": 25,
   "metadata": {},
   "outputs": [],
   "source": [
    "# Standardize the numerical variables\n",
    "scaler = StandardScaler()\n",
    "num_vars = ['qtt_order', 'total_spent', 'days_passed_since_last_order', 'avg_spent_per_product']\n",
    "data[num_vars] = scaler.fit_transform(data[num_vars])"
   ]
  },
  {
   "cell_type": "code",
   "execution_count": 26,
   "metadata": {},
   "outputs": [
    {
     "data": {
      "image/png": "[encoded data removed]",
      "text/plain": [
       "<Figure size 640x480 with 1 Axes>"
      ]
     },
     "metadata": {},
     "output_type": "display_data"
    }
   ],
   "source": [
    "# Determine the optimal number of clusters using the elbow method\n",
    "wcss = []\n",
    "for i in range(1, 11):\n",
    "    kmeans = KMeans(n_clusters=i, init='k-means++', max_iter=300, n_init=10, random_state=0)\n",
    "    kmeans.fit(data[num_vars])\n",
    "    wcss.append(kmeans.inertia_)\n",
    "plt.plot(range(1, 11), wcss)\n",
    "plt.title('Elbow Method')\n",
    "plt.xlabel('Number of Clusters')\n",
    "plt.ylabel('WCSS')\n",
    "plt.show()"
   ]
  },
  {
   "cell_type": "code",
   "execution_count": 27,
   "metadata": {},
   "outputs": [
    {
     "name": "stdout",
     "output_type": "stream",
     "text": [
      "          customer_id  qtt_order  total_spent  days_passed_since_last_order  \\\n",
      "cluster                                                                       \n",
      "0        50030.797857   2.766654     0.432283                     -0.163691   \n",
      "1        50118.937591  -0.295287    -0.343290                      0.852523   \n",
      "2        49792.584932  -0.248569    -0.289640                     -0.907036   \n",
      "3        48323.733333  -0.768418    -0.598838                      0.272374   \n",
      "4        50247.326951   0.129437     2.220773                     -0.172775   \n",
      "\n",
      "         avg_spent_per_product  \n",
      "cluster                         \n",
      "0                    -0.032504  \n",
      "1                    -0.032427  \n",
      "2                    -0.032432  \n",
      "3                    30.844463  \n",
      "4                    -0.032291  \n"
     ]
    }
   ],
   "source": [
    "# Perform clustering with the optimal number of clusters\n",
    "kmeans = KMeans(n_clusters=5, init='k-means++', max_iter=300, n_init=10, random_state=0)\n",
    "y_kmeans = kmeans.fit_predict(data[num_vars])\n",
    "\n",
    "# Add cluster labels to the dataframe\n",
    "data['cluster'] = y_kmeans\n",
    "\n",
    "# Analyze the characteristics of each cluster\n",
    "cluster_means = data.groupby('cluster').mean()\n",
    "print(cluster_means)"
   ]
  },
  {
   "cell_type": "code",
   "execution_count": 28,
   "metadata": {},
   "outputs": [
    {
     "data": {
      "text/html": [
       "<div>\n",
       "<style scoped>\n",
       "    .dataframe tbody tr th:only-of-type {\n",
       "        vertical-align: middle;\n",
       "    }\n",
       "\n",
       "    .dataframe tbody tr th {\n",
       "        vertical-align: top;\n",
       "    }\n",
       "\n",
       "    .dataframe thead th {\n",
       "        text-align: right;\n",
       "    }\n",
       "</style>\n",
       "<table border=\"1\" class=\"dataframe\">\n",
       "  <thead>\n",
       "    <tr style=\"text-align: right;\">\n",
       "      <th></th>\n",
       "      <th>customer_id</th>\n",
       "      <th>qtt_order</th>\n",
       "      <th>total_spent</th>\n",
       "      <th>days_passed_since_last_order</th>\n",
       "      <th>avg_spent_per_product</th>\n",
       "      <th>cluster</th>\n",
       "    </tr>\n",
       "  </thead>\n",
       "  <tbody>\n",
       "    <tr>\n",
       "      <th>0</th>\n",
       "      <td>0</td>\n",
       "      <td>41.0</td>\n",
       "      <td>321785.93</td>\n",
       "      <td>279.0</td>\n",
       "      <td>7848.0</td>\n",
       "      <td>2</td>\n",
       "    </tr>\n",
       "  </tbody>\n",
       "</table>\n",
       "</div>"
      ],
      "text/plain": [
       "   customer_id  qtt_order  total_spent  days_passed_since_last_order  \\\n",
       "0            0       41.0    321785.93                         279.0   \n",
       "\n",
       "   avg_spent_per_product  cluster  \n",
       "0                 7848.0        2  "
      ]
     },
     "execution_count": 28,
     "metadata": {},
     "output_type": "execute_result"
    }
   ],
   "source": [
    "# Invert the standardization process to get back the original data\n",
    "data[num_vars] = scaler.inverse_transform(data[num_vars])\n",
    "data.head(1)"
   ]
  },
  {
   "cell_type": "code",
   "execution_count": null,
   "metadata": {},
   "outputs": [],
   "source": [
    "data['total_spent'] = data['total_spent'].round(0)  #rounding the column values\n",
    "data['avg_spent_per_product'] = data['avg_spent_per_product'].round(0)"
   ]
  },
  {
   "cell_type": "code",
   "execution_count": 8,
   "metadata": {},
   "outputs": [],
   "source": [
    "# Define the mapping of numbers to labels\n",
    "label_mapping = {0: 'Loyal Spenders', 1: 'Occasional Engagers', 2: 'Rapid Repeaters',3: 'Potential Lost',4: 'High-Value Regulars'}\n",
    "\n",
    "# Encode the numbers column with the labels\n",
    "data['cluster'] = data['cluster'].replace(label_mapping)"
   ]
  },
  {
   "cell_type": "code",
   "execution_count": 11,
   "metadata": {},
   "outputs": [],
   "source": [
    "data.to_csv(os.path.join(\"..\", \"data\", \"RFM_data.csv\"),index=False)"
   ]
  }
 ],
 "metadata": {
  "kernelspec": {
   "display_name": "Python 3",
   "language": "python",
   "name": "python3"
  },
  "language_info": {
   "codemirror_mode": {
    "name": "ipython",
    "version": 3
   },
   "file_extension": ".py",
   "mimetype": "text/x-python",
   "name": "python",
   "nbconvert_exporter": "python",
   "pygments_lexer": "ipython3",
   "version": "3.10.7"
  },
  "orig_nbformat": 4
 },
 "nbformat": 4,
 "nbformat_minor": 2
}
